{
 "cells": [
  {
   "cell_type": "code",
   "execution_count": 36,
   "metadata": {},
   "outputs": [],
   "source": [
    "import dash\n",
    "from dash import dcc, html, Input, Output\n",
    "import datetime as dt\n",
    "import pandas as pd\n",
    "import plotly.express as px\n",
    "\n",
    "# Load dataset\n",
    "covid_data = pd.read_csv(r'C:\\Users\\khale\\OneDrive\\Desktop\\CLS\\Assignments\\DashBoard\\Covid_DataSet.csv')\n",
    "\n",
    "# Convert 'Date' column to datetime format\n",
    "covid_data['Date'] = pd.to_datetime(covid_data['Date'])\n",
    "\n",
    "# Initialize the Dash app\n",
    "app = dash.Dash(__name__, suppress_callback_exceptions=True)\n",
    "server = app.server"
   ]
  },
  {
   "cell_type": "markdown",
   "metadata": {},
   "source": [
    "# **Styles for background and fonts**"
   ]
  },
  {
   "cell_type": "code",
   "execution_count": 37,
   "metadata": {},
   "outputs": [],
   "source": [
    "app.index_string = '''\n",
    "<!DOCTYPE html>\n",
    "<html>\n",
    "    <head>\n",
    "        <title>COVID-19 Statistics</title>\n",
    "        <style>\n",
    "            body {\n",
    "                background-image: url('https://thedaily.case.edu/wp-content/uploads/2023/12/covid-19.jpg');\n",
    "                background-size: cover;\n",
    "                font-family: 'Arial, sans-serif';\n",
    "                line-height: 1.6;\n",
    "                margin: 0;\n",
    "                padding: 0;\n",
    "            }\n",
    "            .container {\n",
    "                background: rgba(255, 255, 255, 0.9);\n",
    "                padding: 20px;\n",
    "                border-radius: 10px;\n",
    "                box-shadow: 0 4px 8px rgba(0, 0, 0, 0.2);\n",
    "                max-width: 1200px;\n",
    "                margin: 20px auto;\n",
    "                text-align: justify;\n",
    "            }\n",
    "            h1 {\n",
    "                text-align: center;\n",
    "                font-size: 2.5em;\n",
    "                margin-bottom: 20px;\n",
    "                color: #333;\n",
    "            }\n",
    "            .footer {\n",
    "                text-align: center;\n",
    "                margin-top: 20px;\n",
    "                font-size: 1.2em;\n",
    "                font-weight: bold;\n",
    "                color: #555;\n",
    "            }\n",
    "        </style>\n",
    "    </head>\n",
    "    <body>\n",
    "        <div class=\"container\">\n",
    "            {%app_entry%}\n",
    "        </div>\n",
    "        <footer class=\"footer\">\n",
    "            Better Call Karam\n",
    "        </footer>\n",
    "        {%config%}\n",
    "        {%scripts%}\n",
    "        {%renderer%}\n",
    "    </body>\n",
    "</html>\n",
    "'''"
   ]
  },
  {
   "cell_type": "markdown",
   "metadata": {},
   "source": [
    "# **Layout of the dashboard**"
   ]
  },
  {
   "cell_type": "code",
   "execution_count": 42,
   "metadata": {},
   "outputs": [],
   "source": [
    "app.layout = html.Div([\n",
    "    html.H1(\"COVID-19 Statistics\"),\n",
    "\n",
    "    # Dropdown to select country\n",
    "    html.Label(\"Select Country:\"),\n",
    "    dcc.Dropdown(\n",
    "        id=\"country-dropdown\",\n",
    "        options=[\n",
    "            {\"label\": country, \"value\": country} for country in covid_data['Country/Region'].unique()\n",
    "        ],\n",
    "        value=\"Algeria\",\n",
    "        placeholder=\"Select a country\",\n",
    "    ),\n",
    "\n",
    "    html.Br(),\n",
    "\n",
    "    # Display WHO region\n",
    "    html.Div(id=\"who-region\"),\n",
    "\n",
    "    html.Br(),\n",
    "\n",
    "    # Date picker for selecting date range\n",
    "    html.Label(\"Select Date Range:\"),\n",
    "    dcc.DatePickerRange(\n",
    "    id=\"date-picker-range\",\n",
    "    min_date_allowed=dt.datetime(2020, 1, 22),\n",
    "    max_date_allowed=dt.datetime(2020, 7, 27),\n",
    "    start_date=dt.datetime(2020, 1, 22),\n",
    "    end_date=dt.datetime(2020, 7, 27),\n",
    "    display_format=\"DD/MM/YYYY\",  # Ensure the format matches your data\n",
    "    style={\"margin-bottom\": \"20px\"}\n",
    "    ),\n",
    "\n",
    "    html.Br(),\n",
    "    html.Br(),\n",
    "\n",
    "    # Graphs for COVID-19 statistics\n",
    "    dcc.Graph(id=\"covid-graph\")\n",
    "])"
   ]
  },
  {
   "cell_type": "markdown",
   "metadata": {},
   "source": [
    "# **The Callback to update WHO region and graph**"
   ]
  },
  {
   "cell_type": "code",
   "execution_count": 39,
   "metadata": {},
   "outputs": [],
   "source": [
    "@app.callback(\n",
    "    [Output(\"who-region\", \"children\"),\n",
    "    Output(\"covid-graph\", \"figure\")],\n",
    "    [Input(\"country-dropdown\", \"value\"),\n",
    "    Input(\"date-picker-range\", \"start_date\"),\n",
    "    Input(\"date-picker-range\", \"end_date\")]\n",
    ")\n",
    "def update_dashboard(selected_country, start_date, end_date):\n",
    "    if not selected_country:\n",
    "        return \"Please select a country.\", {}\n",
    "\n",
    "    # Filter data based on selected country and date range\n",
    "    filtered_data = covid_data[(covid_data['Country/Region'] == selected_country) &\n",
    "                                (covid_data['Date'] >= start_date) &\n",
    "                                (covid_data['Date'] <= end_date)]\n",
    "\n",
    "    # Get WHO region for the selected country\n",
    "    who_region = filtered_data['WHO Region'].iloc[0] if not filtered_data.empty else \"N/A\"\n",
    "\n",
    "    # Create line chart\n",
    "    fig = px.line(\n",
    "        filtered_data,\n",
    "        x=\"Date\",\n",
    "        y=[\"Confirmed\", \"Active\", \"Recovered\", \"Deaths\"],\n",
    "        labels={\"value\": \"Cases\", \"variable\": \"Category\"},\n",
    "        title=f\"COVID-19 Statistics for {selected_country}\"\n",
    "    )\n",
    "\n",
    "    return f\"WHO Region: {who_region}\", fig"
   ]
  },
  {
   "cell_type": "markdown",
   "metadata": {},
   "source": [
    "# **Run the app**"
   ]
  },
  {
   "cell_type": "code",
   "execution_count": null,
   "metadata": {},
   "outputs": [],
   "source": [
    "if __name__ == \"__main__\":\n",
    "    app.run_server(debug=True, port=8052)\n"
   ]
  },
  {
   "cell_type": "markdown",
   "metadata": {},
   "source": [
    "# **Vedio Link**"
   ]
  },
  {
   "cell_type": "markdown",
   "metadata": {},
   "source": [
    "https://drive.google.com/file/d/1jH7qOmHtMczTkcqdLFQ3Yggu5hVJnTX1/view?usp=sharing"
   ]
  }
 ],
 "metadata": {
  "kernelspec": {
   "display_name": "Python 3",
   "language": "python",
   "name": "python3"
  },
  "language_info": {
   "codemirror_mode": {
    "name": "ipython",
    "version": 3
   },
   "file_extension": ".py",
   "mimetype": "text/x-python",
   "name": "python",
   "nbconvert_exporter": "python",
   "pygments_lexer": "ipython3",
   "version": "3.13.0"
  }
 },
 "nbformat": 4,
 "nbformat_minor": 2
}
